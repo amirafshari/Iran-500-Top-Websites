{
 "cells": [
  {
   "cell_type": "code",
   "execution_count": null,
   "metadata": {},
   "outputs": [],
   "source": [
    "import pandas as pd"
   ]
  },
  {
   "cell_type": "code",
   "execution_count": null,
   "metadata": {},
   "outputs": [],
   "source": [
    "# Scrape Data\n",
    "import scrapy\n",
    "\n",
    "class QSpider(scrapy.Spider):\n",
    "    name = \"alexa\"\n",
    "    start_urls = [\n",
    "        'https://gooyatech.com/top-sites-in-iran-by-alexa/',\n",
    "    ]\n",
    "\n",
    "    def parse(self, response):\n",
    "        yield {\n",
    "        'list': response.css('td.column-2::text').getall()\n",
    "        }"
   ]
  },
  {
   "cell_type": "code",
   "execution_count": null,
   "metadata": {},
   "outputs": [],
   "source": [
    "# Importing\n",
    "data = pd.read_json('alexa.json')"
   ]
  },
  {
   "cell_type": "code",
   "execution_count": null,
   "metadata": {
    "scrolled": true
   },
   "outputs": [],
   "source": [
    "# Cleaning\n",
    "alexa = data['list'][0]\n",
    "for e in alexa:\n",
    "    print('http://'+e)"
   ]
  },
  {
   "cell_type": "code",
   "execution_count": null,
   "metadata": {},
   "outputs": [],
   "source": [
    "# Conver the list to Pandas Series\n",
    "pd.set_option('display.max_rows', None)\n",
    "ranking = pd.Series(alexa)\n",
    "ranking"
   ]
  },
  {
   "cell_type": "code",
   "execution_count": null,
   "metadata": {},
   "outputs": [],
   "source": []
  }
 ],
 "metadata": {
  "kernelspec": {
   "display_name": "Python 3",
   "language": "python",
   "name": "python3"
  },
  "language_info": {
   "codemirror_mode": {
    "name": "ipython",
    "version": 3
   },
   "file_extension": ".py",
   "mimetype": "text/x-python",
   "name": "python",
   "nbconvert_exporter": "python",
   "pygments_lexer": "ipython3",
   "version": "3.8.3"
  }
 },
 "nbformat": 4,
 "nbformat_minor": 4
}
